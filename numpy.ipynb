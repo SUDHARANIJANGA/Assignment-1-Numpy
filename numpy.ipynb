{
 "cells": [
  {
   "cell_type": "code",
   "execution_count": 1,
   "id": "72c547f1",
   "metadata": {},
   "outputs": [
    {
     "name": "stdout",
     "output_type": "stream",
     "text": [
      "[0. 0. 0. 0. 1. 0. 0. 0. 0. 0.]\n"
     ]
    }
   ],
   "source": [
    "import numpy as np\n",
    "\n",
    "null_vector = np.zeros(10)\n",
    "null_vector[4] = 1\n",
    "\n",
    "print(null_vector)"
   ]
  },
  {
   "cell_type": "code",
   "execution_count": 2,
   "id": "e71a8b2b",
   "metadata": {},
   "outputs": [
    {
     "name": "stdout",
     "output_type": "stream",
     "text": [
      "[10 11 12 13 14 15 16 17 18 19 20 21 22 23 24 25 26 27 28 29 30 31 32 33\n",
      " 34 35 36 37 38 39 40 41 42 43 44 45 46 47 48 49]\n"
     ]
    }
   ],
   "source": [
    "import numpy as np\n",
    "\n",
    "vector = np.arange(10, 50)\n",
    "\n",
    "print(vector)"
   ]
  },
  {
   "cell_type": "code",
   "execution_count": 3,
   "id": "55dfe6b6",
   "metadata": {},
   "outputs": [
    {
     "name": "stdout",
     "output_type": "stream",
     "text": [
      "[[0 1 2]\n",
      " [3 4 5]\n",
      " [6 7 8]]\n"
     ]
    }
   ],
   "source": [
    "import numpy as np\n",
    "\n",
    "matrix = np.arange(9).reshape(3, 3)\n",
    "print(matrix)"
   ]
  },
  {
   "cell_type": "code",
   "execution_count": 4,
   "id": "135ba8dd",
   "metadata": {},
   "outputs": [
    {
     "name": "stdout",
     "output_type": "stream",
     "text": [
      "(array([0, 1, 4], dtype=int64),)\n"
     ]
    }
   ],
   "source": [
    "import numpy as np\n",
    "\n",
    "array = np.array([1, 2, 0, 0, 4, 0])\n",
    "indices = np.nonzero(array)\n",
    "\n",
    "print(indices)"
   ]
  },
  {
   "cell_type": "code",
   "execution_count": 5,
   "id": "99bc4acc",
   "metadata": {},
   "outputs": [
    {
     "name": "stdout",
     "output_type": "stream",
     "text": [
      "Minimum value: 0.029092103128206315\n",
      "Maximum value: 0.9983625294591149\n"
     ]
    }
   ],
   "source": [
    "import numpy as np\n",
    "array = np.random.random((10, 10))\n",
    "\n",
    "minimum = np.min(array)\n",
    "maximum = np.max(array)\n",
    "\n",
    "print(\"Minimum value:\", minimum)\n",
    "print(\"Maximum value:\", maximum)\n"
   ]
  },
  {
   "cell_type": "code",
   "execution_count": 6,
   "id": "b6d6aaca",
   "metadata": {},
   "outputs": [
    {
     "name": "stdout",
     "output_type": "stream",
     "text": [
      "Random vector: [0.98857417 0.52913141 0.80791997 0.42280731 0.47455515 0.6247402\n",
      " 0.18750848 0.78272225 0.05337191 0.06920713 0.79214285 0.57054746\n",
      " 0.63961052 0.93488243 0.6148481  0.17593292 0.01592968 0.15891814\n",
      " 0.9496938  0.33751308 0.65802713 0.97738737 0.27069191 0.03174832\n",
      " 0.55667474 0.64037995 0.70838041 0.87950106 0.37466371 0.14575365]\n",
      "Mean value: 0.5124588400046068\n"
     ]
    }
   ],
   "source": [
    "import numpy as np\n",
    "\n",
    "random_vector = np.random.rand(30)\n",
    "mean_value = np.mean(random_vector)\n",
    "\n",
    "print(\"Random vector:\", random_vector)\n",
    "print(\"Mean value:\", mean_value)"
   ]
  },
  {
   "cell_type": "code",
   "execution_count": null,
   "id": "3f20c987",
   "metadata": {},
   "outputs": [],
   "source": []
  }
 ],
 "metadata": {
  "kernelspec": {
   "display_name": "Python 3 (ipykernel)",
   "language": "python",
   "name": "python3"
  },
  "language_info": {
   "codemirror_mode": {
    "name": "ipython",
    "version": 3
   },
   "file_extension": ".py",
   "mimetype": "text/x-python",
   "name": "python",
   "nbconvert_exporter": "python",
   "pygments_lexer": "ipython3",
   "version": "3.10.9"
  }
 },
 "nbformat": 4,
 "nbformat_minor": 5
}
